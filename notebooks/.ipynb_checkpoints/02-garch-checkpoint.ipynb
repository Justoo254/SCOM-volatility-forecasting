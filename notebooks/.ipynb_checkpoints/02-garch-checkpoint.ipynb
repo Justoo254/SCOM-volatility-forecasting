{
 "cells": [
  {
   "cell_type": "markdown",
   "id": "d82fccd7-7d60-4e29-83ff-4ea46fdff26e",
   "metadata": {},
   "source": [
    "## Building the model\n"
   ]
  },
  {
   "cell_type": "markdown",
   "id": "ea33a936-3f2e-4002-9634-cb2b09e42c7a",
   "metadata": {},
   "source": [
    "**Import data** <br>\n",
    "We have defined a method in main.py for wrangling data which did in the previous notebook so that we dont have to repeat ourselves."
   ]
  },
  {
   "cell_type": "code",
   "execution_count": 1,
   "id": "5672e83a-8cfe-4005-b26d-cd307fcaba71",
   "metadata": {},
   "outputs": [],
   "source": [
    "import sqlite3\n",
    "import sys\n",
    "import os\n",
    "sys.path.append(os.path.abspath(os.path.join(os.getcwd(), \"..\")))\n",
    "from main import BuildModel\n",
    "from src.data import SQLRepository\n",
    "from src.data_utils import get_connection,combine_files\n"
   ]
  },
  {
   "cell_type": "code",
   "execution_count": 2,
   "id": "ebb3d574-4650-48b5-8aa7-b04c969e3cb0",
   "metadata": {},
   "outputs": [],
   "source": [
    "conn = get_connection()\n",
    "repo= SQLRepository(conn)\n"
   ]
  },
  {
   "cell_type": "code",
   "execution_count": 3,
   "id": "4363e674-aca7-43f0-9944-3b6e87d64191",
   "metadata": {},
   "outputs": [],
   "source": [
    "build_model=BuildModel(\"scom_prices\", repo)"
   ]
  },
  {
   "cell_type": "code",
   "execution_count": 4,
   "id": "e2839335-682e-4f37-8f83-a609e2e58bf2",
   "metadata": {},
   "outputs": [],
   "source": [
    "returns =build_model.wrangle_data()"
   ]
  },
  {
   "cell_type": "code",
   "execution_count": 5,
   "id": "54e69b5d-c9f5-42d8-bc0b-8fb53f7ab11d",
   "metadata": {},
   "outputs": [
    {
     "data": {
      "text/plain": [
       "pandas.core.series.Series"
      ]
     },
     "execution_count": 5,
     "metadata": {},
     "output_type": "execute_result"
    }
   ],
   "source": [
    "type(returns)"
   ]
  },
  {
   "cell_type": "markdown",
   "id": "70bede60-d129-4f83-bd86-c541faf12f7e",
   "metadata": {},
   "source": [
    "**Split Data**"
   ]
  },
  {
   "cell_type": "code",
   "execution_count": null,
   "id": "aa272344-f92a-4fed-9698-05ead574a0c9",
   "metadata": {},
   "outputs": [],
   "source": []
  }
 ],
 "metadata": {
  "kernelspec": {
   "display_name": "Python 3 (ipykernel)",
   "language": "python",
   "name": "python3"
  },
  "language_info": {
   "codemirror_mode": {
    "name": "ipython",
    "version": 3
   },
   "file_extension": ".py",
   "mimetype": "text/x-python",
   "name": "python",
   "nbconvert_exporter": "python",
   "pygments_lexer": "ipython3",
   "version": "3.10.12"
  }
 },
 "nbformat": 4,
 "nbformat_minor": 5
}
